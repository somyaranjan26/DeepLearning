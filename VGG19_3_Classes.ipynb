{
  "nbformat": 4,
  "nbformat_minor": 0,
  "metadata": {
    "colab": {
      "name": "VGG19_3_Classes.ipynb",
      "provenance": [],
      "private_outputs": true,
      "collapsed_sections": [],
      "include_colab_link": true
    },
    "kernelspec": {
      "name": "python3",
      "display_name": "Python 3"
    },
    "accelerator": "GPU"
  },
  "cells": [
    {
      "cell_type": "markdown",
      "metadata": {
        "id": "view-in-github",
        "colab_type": "text"
      },
      "source": [
        "<a href=\"https://colab.research.google.com/github/somyaranjan26/DeepLearning/blob/master/VGG19_3_Classes.ipynb\" target=\"_parent\"><img src=\"https://colab.research.google.com/assets/colab-badge.svg\" alt=\"Open In Colab\"/></a>"
      ]
    },
    {
      "cell_type": "markdown",
      "metadata": {
        "id": "yZ7lDBU87Yx-",
        "colab_type": "text"
      },
      "source": [
        "### Connect to Google Drive to access Dataset"
      ]
    },
    {
      "cell_type": "code",
      "metadata": {
        "id": "aYCuXxFRSb_b",
        "colab_type": "code",
        "colab": {}
      },
      "source": [
        "from google.colab import drive\n",
        "drive.mount('/content/drive')"
      ],
      "execution_count": null,
      "outputs": []
    },
    {
      "cell_type": "markdown",
      "metadata": {
        "id": "BWYzwOSR7bXY",
        "colab_type": "text"
      },
      "source": [
        "### Path of dataset directory"
      ]
    },
    {
      "cell_type": "code",
      "metadata": {
        "id": "9gTec514ivTQ",
        "colab_type": "code",
        "colab": {}
      },
      "source": [
        "import os\n",
        "os.chdir('/content/drive/My Drive/Deep Learning Internship/Training')"
      ],
      "execution_count": null,
      "outputs": []
    },
    {
      "cell_type": "markdown",
      "metadata": {
        "id": "U3UNrdYF7s_A",
        "colab_type": "text"
      },
      "source": [
        "### Import all dependencies"
      ]
    },
    {
      "cell_type": "code",
      "metadata": {
        "id": "oQX2_0tQ7SQ8",
        "colab_type": "code",
        "colab": {}
      },
      "source": [
        "from __future__ import print_function, division\n",
        "from builtins import range, input\n",
        "\n",
        "from tensorflow.keras.layers import Input, Lambda, Dense, Flatten, GlobalAveragePooling2D, Dropout\n",
        "from tensorflow.keras.models import Model, load_model\n",
        "from tensorflow.keras.applications import VGG19\n",
        "from tensorflow.keras.applications.vgg16 import preprocess_input\n",
        "from tensorflow.keras.preprocessing import image\n",
        "from tensorflow.keras.preprocessing.image import ImageDataGenerator\n",
        "\n",
        "from sklearn.metrics import confusion_matrix, roc_curve\n",
        "import seaborn as sns\n",
        "import numpy as np\n",
        "import matplotlib.pyplot as plt\n",
        "\n",
        "from glob import glob\n",
        "import pandas as pd"
      ],
      "execution_count": null,
      "outputs": []
    },
    {
      "cell_type": "markdown",
      "metadata": {
        "id": "e0j-x5TX7xRE",
        "colab_type": "text"
      },
      "source": [
        "### Define Few Parameters"
      ]
    },
    {
      "cell_type": "code",
      "metadata": {
        "id": "GEWWPP5pioJk",
        "colab_type": "code",
        "colab": {}
      },
      "source": [
        "import numpy as np\n",
        "import matplotlib.pyplot as plt\n",
        "import os\n",
        "import cv2\n",
        "from tqdm import tqdm\n",
        "\n",
        "DATADIR = \"\"\n",
        "IMG_SIZE = 224\n",
        "CATEGORIES = [\"covid\", \"Normal\",\"Pneumonia\"]"
      ],
      "execution_count": null,
      "outputs": []
    },
    {
      "cell_type": "markdown",
      "metadata": {
        "id": "wed9QKBE77XB",
        "colab_type": "text"
      },
      "source": [
        "### Fetch Images and Class Labels from Files (This might take a while)"
      ]
    },
    {
      "cell_type": "code",
      "metadata": {
        "id": "ES-sRhyT4VfC",
        "colab_type": "code",
        "colab": {}
      },
      "source": [
        "training_data = []\n",
        "\n",
        "def create_training_data():\n",
        "    for category in CATEGORIES: \n",
        "\n",
        "        path = os.path.join(DATADIR,category)                            # create path to covid19, normal and pneomonia\n",
        "        class_num = CATEGORIES.index(category)                           # get the classification  (0,1 or 2). 0=covid 1=normal and 2=pneomonia\n",
        "\n",
        "        for img in tqdm(os.listdir(path)):                               # iterate over each image per covid19, normal and pneomonia\n",
        "            try:\n",
        "                img_array = cv2.imread(os.path.join(path,img) )          # convert to array\n",
        "                new_array = cv2.resize(img_array, (IMG_SIZE, IMG_SIZE))  # resize to normalize data size\n",
        "                training_data.append([new_array, class_num])             # add this to our training_data\n",
        "            except Exception as e:                                       # in the interest in keeping the output clean...\n",
        "                pass\n",
        "            #except OSError as e:\n",
        "            #    print(\"OSErrroBad img most likely\", e, os.path.join(path,img))\n",
        "            #except Exception as e:\n",
        "            #    print(\"general exception\", e, os.path.join(path,img))\n",
        "\n",
        "create_training_data()\n",
        "\n",
        "print(len(training_data))"
      ],
      "execution_count": null,
      "outputs": []
    },
    {
      "cell_type": "code",
      "metadata": {
        "id": "lzWxthfLADT0",
        "colab_type": "code",
        "colab": {}
      },
      "source": [
        "import random\n",
        "\n",
        "random.shuffle(training_data)"
      ],
      "execution_count": null,
      "outputs": []
    },
    {
      "cell_type": "code",
      "metadata": {
        "id": "s5ezgSsxBZA5",
        "colab_type": "code",
        "colab": {}
      },
      "source": [
        "x = []\n",
        "y = []\n",
        "\n",
        "for features,label in training_data:\n",
        "    x.append(features)\n",
        "    y.append(label)\n",
        "\n",
        "#print(x[1].reshape(-1,224,224,3))\n",
        "#print(x[1].reshape(-1, IMG_SIZE, IMG_SIZE, 3))\n",
        "\n",
        "x = np.array(x)\n",
        "y=np.array(y)"
      ],
      "execution_count": null,
      "outputs": []
    },
    {
      "cell_type": "code",
      "metadata": {
        "id": "o32ZakSs8Kbs",
        "colab_type": "code",
        "colab": {}
      },
      "source": [
        "import keras\n",
        "from keras import layers"
      ],
      "execution_count": null,
      "outputs": []
    },
    {
      "cell_type": "markdown",
      "metadata": {
        "id": "e25gtkLD9ZVM",
        "colab_type": "text"
      },
      "source": [
        "### Train Test Split"
      ]
    },
    {
      "cell_type": "code",
      "metadata": {
        "id": "MEOcoVaC4xxd",
        "colab_type": "code",
        "colab": {}
      },
      "source": [
        "from sklearn.model_selection import train_test_split\n",
        "\n",
        "xTrain, xTest, yTrain, yTest = train_test_split(x, y, test_size = 0.2, random_state = 0)\n",
        "print(yTrain.shape, yTest.shape)\n",
        "\n",
        "yTrain = keras.utils.to_categorical(yTrain,3)\n",
        "yTest = keras.utils.to_categorical(yTest, 3)"
      ],
      "execution_count": null,
      "outputs": []
    },
    {
      "cell_type": "markdown",
      "metadata": {
        "id": "-rvCeHiF9-YG",
        "colab_type": "text"
      },
      "source": [
        "### **Normalization**\n",
        "#### Model takes images in the form of array of pixels. Hence convert into array and *normalize*"
      ]
    },
    {
      "cell_type": "code",
      "metadata": {
        "id": "5Di5Fp1N4ITK",
        "colab_type": "code",
        "colab": {}
      },
      "source": [
        "# Convert the images to float and scale it to a range of 0 to 1\n",
        "xTrain = xTrain.astype('float32')\n",
        "xTest = xTest.astype('float32')\n",
        "xTrain /= 255.\n",
        "xTest /= 255."
      ],
      "execution_count": null,
      "outputs": []
    },
    {
      "cell_type": "markdown",
      "metadata": {
        "id": "cN-6WLjY-h4c",
        "colab_type": "text"
      },
      "source": [
        "### **Building and Visualizing model**"
      ]
    },
    {
      "cell_type": "code",
      "metadata": {
        "id": "mzEwbvrpDQZB",
        "colab_type": "code",
        "colab": {}
      },
      "source": [
        "vggModel = VGG19(weights=\"imagenet\", include_top=False, input_shape=(224,224,3))\n",
        "\n",
        "outputs = vggModel.output\n",
        "outputs = Flatten(name=\"flatten\")(outputs)\n",
        "outputs = Dropout(0.2)(outputs)\n",
        "outputs = Dense(3, activation=\"softmax\")(outputs)\n",
        "\n",
        "model = Model(inputs=vggModel.input, outputs=outputs)\n",
        "\n",
        "for layer in vggModel.layers:\n",
        "    layer.trainable = False\n",
        "\n",
        "model.compile(\n",
        "        loss='categorical_crossentropy', \n",
        "        optimizer='adam', \n",
        "        metrics=['accuracy']\n",
        ")"
      ],
      "execution_count": null,
      "outputs": []
    },
    {
      "cell_type": "code",
      "metadata": {
        "id": "UpNZ9VQUDhkZ",
        "colab_type": "code",
        "colab": {}
      },
      "source": [
        "model.summary()"
      ],
      "execution_count": null,
      "outputs": []
    },
    {
      "cell_type": "markdown",
      "metadata": {
        "id": "A8JTSAAY-tkD",
        "colab_type": "text"
      },
      "source": [
        "### **Image Augmentation**\n",
        "To train on images at different positions, angles, flips, etc"
      ]
    },
    {
      "cell_type": "code",
      "metadata": {
        "id": "GP4l4EqsDjVP",
        "colab_type": "code",
        "colab": {}
      },
      "source": [
        "train_aug = ImageDataGenerator(\n",
        "    rotation_range=20,\n",
        "    width_shift_range=0.2,\n",
        "    height_shift_range=0.2,\n",
        "    horizontal_flip=True\n",
        ")"
      ],
      "execution_count": null,
      "outputs": []
    },
    {
      "cell_type": "markdown",
      "metadata": {
        "id": "Lcu5fAKB-2UW",
        "colab_type": "text"
      },
      "source": [
        "### **Training the model**"
      ]
    },
    {
      "cell_type": "code",
      "metadata": {
        "id": "441412ogDnI6",
        "colab_type": "code",
        "colab": {}
      },
      "source": [
        "history = model.fit(train_aug.flow(xTrain, yTrain, batch_size=32),\n",
        "                    validation_data=(xTest, yTest),\n",
        "                    validation_steps=len(xTest) / 32,\n",
        "                    steps_per_epoch=len(xTrain) / 32,\n",
        "                    epochs=200)"
      ],
      "execution_count": null,
      "outputs": []
    },
    {
      "cell_type": "code",
      "metadata": {
        "id": "G-OHDG1vEjCZ",
        "colab_type": "code",
        "colab": {}
      },
      "source": [
        "model.save('vgg_3_classes.h5')"
      ],
      "execution_count": null,
      "outputs": []
    },
    {
      "cell_type": "code",
      "metadata": {
        "id": "xjipAjzWEk89",
        "colab_type": "code",
        "colab": {}
      },
      "source": [
        "model.save_weights('vggweight_3_classes.hdf5')"
      ],
      "execution_count": null,
      "outputs": []
    },
    {
      "cell_type": "code",
      "metadata": {
        "id": "tRW63w-yEmqA",
        "colab_type": "code",
        "colab": {}
      },
      "source": [
        "model = load_model('vgg_3_classes.h5')"
      ],
      "execution_count": null,
      "outputs": []
    },
    {
      "cell_type": "markdown",
      "metadata": {
        "id": "G5-BYssW_AJ0",
        "colab_type": "text"
      },
      "source": [
        "### **Making Predicions**"
      ]
    },
    {
      "cell_type": "code",
      "metadata": {
        "id": "RmqKuqc_Eoi9",
        "colab_type": "code",
        "colab": {}
      },
      "source": [
        "y_pred = model.predict(xTest, batch_size=32)"
      ],
      "execution_count": null,
      "outputs": []
    },
    {
      "cell_type": "markdown",
      "metadata": {
        "id": "MiCTMCeR_Rt7",
        "colab_type": "text"
      },
      "source": [
        "### Convert to Binary classes"
      ]
    },
    {
      "cell_type": "code",
      "metadata": {
        "id": "yu1-7iXnjWYh",
        "colab_type": "code",
        "colab": {}
      },
      "source": [
        "test_labels = np.argmax(yTest, axis=1)\n",
        "test_pred = np.argmax(y_pred, axis=1)"
      ],
      "execution_count": null,
      "outputs": []
    },
    {
      "cell_type": "code",
      "metadata": {
        "id": "_cjOPfxEjxNV",
        "colab_type": "code",
        "colab": {}
      },
      "source": [
        "test_acc = sum(test_labels == test_pred) / len(test_labels)\n",
        "print('Accuracy: %.3f' % test_acc)"
      ],
      "execution_count": null,
      "outputs": []
    }
  ]
}